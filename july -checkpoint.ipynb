{
 "cells": [
  {
   "cell_type": "code",
   "execution_count": null,
   "id": "bcae1b81",
   "metadata": {},
   "outputs": [],
   "source": [
    "city=input(\"enter a string:\")\n",
    "city(2)\n"
   ]
  },
  {
   "cell_type": "code",
   "execution_count": null,
   "id": "a3f74dab",
   "metadata": {},
   "outputs": [],
   "source": [
    "city=input(\"enter a string:\")\n",
    "city[2]"
   ]
  },
  {
   "cell_type": "code",
   "execution_count": null,
   "id": "bae90736",
   "metadata": {},
   "outputs": [],
   "source": [
    "city=input(\"enter a string:\")\n",
    "city[2]"
   ]
  },
  {
   "cell_type": "code",
   "execution_count": 2,
   "id": "0a36d1f5",
   "metadata": {},
   "outputs": [
    {
     "name": "stdout",
     "output_type": "stream",
     "text": [
      "7\n",
      "14\n",
      "21\n",
      "28\n",
      "35\n",
      "42\n",
      "49\n",
      "56\n",
      "63\n",
      "70\n",
      "77\n",
      "84\n",
      "91\n",
      "98\n"
     ]
    }
   ],
   "source": [
    "for i in range(1,101):\n",
    "    if(i%7==0):\n",
    "        print(i)"
   ]
  },
  {
   "cell_type": "code",
   "execution_count": 3,
   "id": "ea49ec01",
   "metadata": {},
   "outputs": [
    {
     "name": "stdout",
     "output_type": "stream",
     "text": [
      "63\n"
     ]
    }
   ],
   "source": [
    "for i in range(1,101):\n",
    "    if(i%7==0):\n",
    "        if(i%9==0):\n",
    "            print(i)"
   ]
  },
  {
   "cell_type": "code",
   "execution_count": 4,
   "id": "5bb775a3",
   "metadata": {},
   "outputs": [
    {
     "name": "stdout",
     "output_type": "stream",
     "text": [
      "2\n",
      "4\n",
      "6\n",
      "8\n",
      "10\n",
      "12\n",
      "14\n",
      "16\n",
      "18\n",
      "20\n",
      "22\n",
      "24\n",
      "26\n",
      "28\n",
      "30\n",
      "32\n",
      "34\n",
      "36\n",
      "38\n",
      "40\n",
      "42\n",
      "44\n",
      "46\n",
      "48\n",
      "50\n",
      "52\n",
      "54\n",
      "56\n",
      "58\n",
      "60\n",
      "62\n",
      "64\n",
      "66\n",
      "68\n",
      "70\n",
      "72\n",
      "74\n",
      "76\n",
      "78\n",
      "80\n",
      "82\n",
      "84\n",
      "86\n",
      "88\n",
      "90\n",
      "92\n",
      "94\n",
      "96\n",
      "98\n",
      "100\n"
     ]
    }
   ],
   "source": [
    "for i in range(1,101):\n",
    "    if(i%2==0):\n",
    "        print(i)"
   ]
  },
  {
   "cell_type": "code",
   "execution_count": null,
   "id": "8fdb567f",
   "metadata": {},
   "outputs": [],
   "source": [
    "var=int(input(\"enter a string\"))\n",
    "if var>20:\n",
    "    print(\"var is greater than 20\")\n",
    "    if var==23:\n",
    "        print(\"var is equal to 23\")\n",
    "    elif var>=30 and var<=40:\n",
    "        print(\"var is greater than 30 but less than 40\")\n",
    "else:\n",
    "    print(\"please enter a valid var\")\n",
    "    "
   ]
  },
  {
   "cell_type": "code",
   "execution_count": 5,
   "id": "d620655e",
   "metadata": {},
   "outputs": [
    {
     "name": "stdout",
     "output_type": "stream",
     "text": [
      "enter a stringhumik\n",
      "u\n",
      "i\n"
     ]
    }
   ],
   "source": [
    "string=input(\"enter a string\")\n",
    "for index in range (len(string)):\n",
    "    if(index%2!=0):\n",
    "        print(string[index])\n",
    "    \n",
    "    "
   ]
  },
  {
   "cell_type": "markdown",
   "id": "794bbfe9",
   "metadata": {},
   "source": []
  },
  {
   "cell_type": "code",
   "execution_count": 18,
   "id": "ab81ca7f",
   "metadata": {},
   "outputs": [
    {
     "name": "stdout",
     "output_type": "stream",
     "text": [
      "enter a number:145\n",
      "10\n",
      "number is not divisble by 3\n"
     ]
    }
   ],
   "source": [
    "a=int(input(\"enter a number:\"))\n",
    "b=sum(int(digit) for digit in str(a))\n",
    "print(b)\n",
    "if b%3==0:\n",
    "    print(\"number is divisble by 3\")\n",
    "else:\n",
    "    print(\"number is not divisble by 3\")\n",
    "    \n",
    "    "
   ]
  },
  {
   "cell_type": "code",
   "execution_count": null,
   "id": "c3653a6d",
   "metadata": {},
   "outputs": [],
   "source": []
  }
 ],
 "metadata": {
  "kernelspec": {
   "display_name": "Python 3 (ipykernel)",
   "language": "python",
   "name": "python3"
  },
  "language_info": {
   "codemirror_mode": {
    "name": "ipython",
    "version": 3
   },
   "file_extension": ".py",
   "mimetype": "text/x-python",
   "name": "python",
   "nbconvert_exporter": "python",
   "pygments_lexer": "ipython3",
   "version": "3.10.11"
  }
 },
 "nbformat": 4,
 "nbformat_minor": 5
}
