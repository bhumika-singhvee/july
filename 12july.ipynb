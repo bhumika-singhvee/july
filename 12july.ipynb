{
 "cells": [
  {
   "cell_type": "code",
   "execution_count": 3,
   "id": "6793ce33",
   "metadata": {},
   "outputs": [
    {
     "name": "stdout",
     "output_type": "stream",
     "text": [
      "enter  a year:2005\n",
      "year is not a leap year\n"
     ]
    }
   ],
   "source": [
    "year=int(input(\"enter  a year:\"))\n",
    "if(year%2==0):\n",
    "    if(year%4==0):\n",
    "        print(\"year is leap year\")\n",
    "else:\n",
    "    print(\"year is not a leap year\")"
   ]
  },
  {
   "cell_type": "code",
   "execution_count": 11,
   "id": "dc786f65",
   "metadata": {},
   "outputs": [
    {
     "name": "stdout",
     "output_type": "stream",
     "text": [
      "enter  a variable:bh um ik\n",
      "number of spaces  1\n",
      "number of spaces  2\n"
     ]
    }
   ],
   "source": [
    "var=input(\"enter  a variable:\")\n",
    "count=0\n",
    "for i in range(0, len(var)):\n",
    "    if var[i] == \" \":\n",
    "            count += 1\n",
    "            print(\"number of spaces \",count)"
   ]
  },
  {
   "cell_type": "code",
   "execution_count": null,
   "id": "b708f3a0",
   "metadata": {},
   "outputs": [],
   "source": [
    "a=input(\"enter a variable1:\")\n",
    "b=input(\"enter a variable2:\")\n",
    "counter=0\n",
    "for i in range(0,length(a)):\n",
    "    if(a[i]==b[i]):\n",
    "        counter=counter+1\n",
    "if(len(a)==counter and len(b)==counter):\n",
    "    print(\"equal\")\n",
    "else:\n",
    "    print(\"not equal\")\n",
    "print(counter)    \n",
    "    \n",
    "    \n"
   ]
  },
  {
   "cell_type": "code",
   "execution_count": null,
   "id": "3d70b124",
   "metadata": {},
   "outputs": [],
   "source": []
  }
 ],
 "metadata": {
  "kernelspec": {
   "display_name": "Python 3 (ipykernel)",
   "language": "python",
   "name": "python3"
  },
  "language_info": {
   "codemirror_mode": {
    "name": "ipython",
    "version": 3
   },
   "file_extension": ".py",
   "mimetype": "text/x-python",
   "name": "python",
   "nbconvert_exporter": "python",
   "pygments_lexer": "ipython3",
   "version": "3.10.11"
  }
 },
 "nbformat": 4,
 "nbformat_minor": 5
}
