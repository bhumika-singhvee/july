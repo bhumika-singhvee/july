{
 "cells": [
  {
   "cell_type": "code",
   "execution_count": null,
   "id": "bcae1b81",
   "metadata": {},
   "outputs": [],
   "source": [
    "city=input(\"enter a string:\")\n",
    "city(2)\n"
   ]
  },
  {
   "cell_type": "code",
   "execution_count": null,
   "id": "a3f74dab",
   "metadata": {},
   "outputs": [],
   "source": [
    "city=input(\"enter a string:\")\n",
    "city[2]"
   ]
  },
  {
   "cell_type": "code",
   "execution_count": null,
   "id": "bae90736",
   "metadata": {},
   "outputs": [],
   "source": [
    "city=input(\"enter a string:\")\n",
    "city[2]"
   ]
  },
  {
   "cell_type": "code",
   "execution_count": null,
   "id": "0a36d1f5",
   "metadata": {},
   "outputs": [],
   "source": [
    "num1=int(\"input number 1:\")\n",
    "num2=int(\"input number 1:\")\n",
    "if (num1%4):"
   ]
  }
 ],
 "metadata": {
  "kernelspec": {
   "display_name": "Python 3 (ipykernel)",
   "language": "python",
   "name": "python3"
  },
  "language_info": {
   "codemirror_mode": {
    "name": "ipython",
    "version": 3
   },
   "file_extension": ".py",
   "mimetype": "text/x-python",
   "name": "python",
   "nbconvert_exporter": "python",
   "pygments_lexer": "ipython3",
   "version": "3.10.11"
  }
 },
 "nbformat": 4,
 "nbformat_minor": 5
}
